{
 "cells": [
  {
   "cell_type": "markdown",
   "id": "59240c9e",
   "metadata": {},
   "source": [
    "# Loading important libraries"
   ]
  },
  {
   "cell_type": "code",
   "execution_count": 31,
   "id": "669d1e3b",
   "metadata": {},
   "outputs": [],
   "source": [
    "import tensorflow as tf \n",
    "from tensorflow import keras \n",
    "import pandas as pd\n",
    "import numpy as np"
   ]
  },
  {
   "cell_type": "markdown",
   "id": "6cd79b58",
   "metadata": {},
   "source": [
    "# Loading the data\n"
   ]
  },
  {
   "cell_type": "code",
   "execution_count": 9,
   "id": "5a12e20c",
   "metadata": {},
   "outputs": [],
   "source": [
    "X_train_full = pd.read_csv(\"train.csv\")\n",
    "X_test_full = pd.read_csv(\"test.csv\")\n",
    "X_valid_full = pd.read_csv(\"valid.csv\")"
   ]
  },
  {
   "cell_type": "markdown",
   "id": "b7ad5518",
   "metadata": {},
   "source": [
    "# preprocess the data"
   ]
  },
  {
   "cell_type": "code",
   "execution_count": 16,
   "id": "f73eb870",
   "metadata": {},
   "outputs": [],
   "source": [
    "X_train = X_train_full[\"text\"]\n",
    "y_train = X_train_full[\"label\"]\n",
    "\n",
    "X_test = X_test_full[\"text\"]\n",
    "y_test = X_test_full[\"label\"]\n",
    "\n",
    "X_valid = X_valid_full[\"text\"]\n",
    "y_valid = X_valid_full[\"label\"]"
   ]
  },
  {
   "cell_type": "code",
   "execution_count": 18,
   "id": "e120bf94",
   "metadata": {},
   "outputs": [],
   "source": [
    "from tensorflow.keras.preprocessing.text import Tokenizer\n",
    "from tensorflow.keras.preprocessing.sequence import pad_sequences\n",
    "\n",
    "tokenizer = Tokenizer(num_words = 20000, oov_token=\"oov_tok\")\n",
    "tokenizer.fit_on_texts(X_train)\n",
    "\n",
    "word_index = tokenizer.word_index\n",
    "\n",
    "X_train_sequence = tokenizer.texts_to_sequences(X_train)\n",
    "X_train_padded = pad_sequences(X_train_sequence, maxlen = 250, padding = \"post\", truncating = \"post\")\n",
    "\n",
    "X_test_sequence = tokenizer.texts_to_sequences(X_test)\n",
    "X_test_padded = pad_sequences(X_test_sequence, maxlen = 250, padding = \"post\", truncating = \"post\")\n",
    "\n",
    "X_valid_sequence = tokenizer.texts_to_sequences(X_valid)\n",
    "X_valid_padded = pad_sequences(X_valid_sequence, maxlen = 250, padding = \"post\", truncating = \"post\")"
   ]
  },
  {
   "cell_type": "code",
   "execution_count": 28,
   "id": "8ef76fd8",
   "metadata": {},
   "outputs": [
    {
     "data": {
      "text/plain": [
       "dict"
      ]
     },
     "execution_count": 28,
     "metadata": {},
     "output_type": "execute_result"
    }
   ],
   "source": [
    "type(word_index)"
   ]
  },
  {
   "cell_type": "code",
   "execution_count": 19,
   "id": "abcae0ee",
   "metadata": {},
   "outputs": [
    {
     "data": {
      "text/plain": [
       "pandas.core.series.Series"
      ]
     },
     "execution_count": 19,
     "metadata": {},
     "output_type": "execute_result"
    }
   ],
   "source": [
    "type(y_train)"
   ]
  },
  {
   "cell_type": "code",
   "execution_count": 21,
   "id": "b4be1a3a",
   "metadata": {},
   "outputs": [
    {
     "data": {
      "text/plain": [
       "numpy.ndarray"
      ]
     },
     "execution_count": 21,
     "metadata": {},
     "output_type": "execute_result"
    }
   ],
   "source": [
    "type(X_valid_padded)"
   ]
  },
  {
   "cell_type": "markdown",
   "id": "6756dbbf",
   "metadata": {},
   "source": [
    "converting labels from series to numpy array"
   ]
  },
  {
   "cell_type": "code",
   "execution_count": 35,
   "id": "7f4e11ee",
   "metadata": {},
   "outputs": [],
   "source": [
    "y_train_array = np.array(y_train) \n",
    "y_test_array = np.array(y_test) \n",
    "y_valid_array = np.array(y_valid) "
   ]
  },
  {
   "cell_type": "markdown",
   "id": "fc5b20cb",
   "metadata": {},
   "source": [
    "# Making model"
   ]
  },
  {
   "cell_type": "code",
   "execution_count": 41,
   "id": "0dffc79e",
   "metadata": {},
   "outputs": [],
   "source": [
    "model = tf.keras.Sequential([\n",
    "        tf.keras.layers.Embedding(20000, 16, input_length = 250),\n",
    "        tf.keras.layers.GlobalAveragePooling1D(),\n",
    "        tf.keras.layers.Dense(20, activation = \"relu\"),\n",
    "        tf.keras.layers.Dense(1,activation = \"sigmoid\")\n",
    "])\n",
    "\n",
    "model.compile(loss=\"binary_crossentropy\",optimizer = \"adam\", metrics=[\"accuracy\"])"
   ]
  },
  {
   "cell_type": "code",
   "execution_count": 43,
   "id": "f37633d1",
   "metadata": {},
   "outputs": [
    {
     "name": "stdout",
     "output_type": "stream",
     "text": [
      "Model: \"sequential_1\"\n",
      "_________________________________________________________________\n",
      " Layer (type)                Output Shape              Param #   \n",
      "=================================================================\n",
      " embedding_1 (Embedding)     (None, 250, 16)           320000    \n",
      "                                                                 \n",
      " global_average_pooling1d_1   (None, 16)               0         \n",
      " (GlobalAveragePooling1D)                                        \n",
      "                                                                 \n",
      " dense_2 (Dense)             (None, 20)                340       \n",
      "                                                                 \n",
      " dense_3 (Dense)             (None, 1)                 21        \n",
      "                                                                 \n",
      "=================================================================\n",
      "Total params: 320,361\n",
      "Trainable params: 320,361\n",
      "Non-trainable params: 0\n",
      "_________________________________________________________________\n"
     ]
    }
   ],
   "source": [
    "model.summary()"
   ]
  },
  {
   "cell_type": "code",
   "execution_count": 44,
   "id": "4ec80f73",
   "metadata": {},
   "outputs": [
    {
     "name": "stdout",
     "output_type": "stream",
     "text": [
      "Epoch 1/10\n",
      "1250/1250 [==============================] - 21s 15ms/step - loss: 0.4333 - accuracy: 0.8196 - val_loss: 0.3004 - val_accuracy: 0.8790\n",
      "Epoch 2/10\n",
      "1250/1250 [==============================] - 17s 13ms/step - loss: 0.2373 - accuracy: 0.9089 - val_loss: 0.2761 - val_accuracy: 0.8870\n",
      "Epoch 3/10\n",
      "1250/1250 [==============================] - 19s 15ms/step - loss: 0.1876 - accuracy: 0.9307 - val_loss: 0.2820 - val_accuracy: 0.8866\n",
      "Epoch 4/10\n",
      "1250/1250 [==============================] - 17s 13ms/step - loss: 0.1544 - accuracy: 0.9452 - val_loss: 0.3056 - val_accuracy: 0.8830\n",
      "Epoch 5/10\n",
      "1250/1250 [==============================] - 18s 14ms/step - loss: 0.1294 - accuracy: 0.9557 - val_loss: 0.3260 - val_accuracy: 0.8808\n",
      "Epoch 6/10\n",
      "1250/1250 [==============================] - 16s 13ms/step - loss: 0.1078 - accuracy: 0.9648 - val_loss: 0.3570 - val_accuracy: 0.8804\n",
      "Epoch 7/10\n",
      "1250/1250 [==============================] - 17s 13ms/step - loss: 0.0903 - accuracy: 0.9712 - val_loss: 0.4069 - val_accuracy: 0.8762\n",
      "Epoch 8/10\n",
      "1250/1250 [==============================] - 17s 14ms/step - loss: 0.0760 - accuracy: 0.9761 - val_loss: 0.4693 - val_accuracy: 0.8750\n",
      "Epoch 9/10\n",
      "1250/1250 [==============================] - 18s 14ms/step - loss: 0.0638 - accuracy: 0.9811 - val_loss: 0.4915 - val_accuracy: 0.8728\n",
      "Epoch 10/10\n",
      "1250/1250 [==============================] - 17s 14ms/step - loss: 0.0530 - accuracy: 0.9856 - val_loss: 0.5175 - val_accuracy: 0.8672\n"
     ]
    }
   ],
   "source": [
    "history = model.fit(X_train_padded,y_train_array,epochs = 10, validation_data=(X_valid_padded,y_valid_array))"
   ]
  },
  {
   "cell_type": "markdown",
   "id": "60a951a8",
   "metadata": {},
   "source": [
    "# Testing  the model\n"
   ]
  },
  {
   "cell_type": "code",
   "execution_count": 71,
   "id": "52673d6e",
   "metadata": {},
   "outputs": [
    {
     "name": "stdout",
     "output_type": "stream",
     "text": [
      "[[0.03303787]]\n"
     ]
    }
   ],
   "source": [
    "sentence = [\" this movie is writeen so bad. The actors actining was pathetic and story is a flop\"]\n",
    "\n",
    "sequence = tokenizer.texts_to_sequences(sentence)\n",
    "padded = pad_sequences(sequence, maxlen = 250, padding=\"post\", truncating=\"post\")\n",
    "\n",
    "print(model.predict(padded))"
   ]
  },
  {
   "cell_type": "code",
   "execution_count": null,
   "id": "484e49bf",
   "metadata": {},
   "outputs": [],
   "source": []
  },
  {
   "cell_type": "code",
   "execution_count": null,
   "id": "805b929f",
   "metadata": {},
   "outputs": [],
   "source": []
  },
  {
   "cell_type": "code",
   "execution_count": null,
   "id": "6103d997",
   "metadata": {},
   "outputs": [],
   "source": []
  }
 ],
 "metadata": {
  "kernelspec": {
   "display_name": "Python 3",
   "language": "python",
   "name": "python3"
  },
  "language_info": {
   "codemirror_mode": {
    "name": "ipython",
    "version": 3
   },
   "file_extension": ".py",
   "mimetype": "text/x-python",
   "name": "python",
   "nbconvert_exporter": "python",
   "pygments_lexer": "ipython3",
   "version": "3.8.8"
  }
 },
 "nbformat": 4,
 "nbformat_minor": 5
}
